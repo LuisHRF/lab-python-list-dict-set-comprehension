{
 "cells": [
  {
   "cell_type": "markdown",
   "id": "25d7736c-ba17-4aff-b6bb-66eba20fbf4e",
   "metadata": {},
   "source": [
    "# Lab | List, Dict and Set Comprehension"
   ]
  },
  {
   "cell_type": "markdown",
   "id": "7dd3cbde-675a-4b81-92c3-f728846dbe06",
   "metadata": {},
   "source": [
    "## Exercise: Managing Customer Orders Optimized with Comprehension"
   ]
  },
  {
   "cell_type": "markdown",
   "id": "5d500160-2fb7-4777-b5e4-09d45ebaf328",
   "metadata": {},
   "source": [
    "In the previous exercise, you developed a program to manage customer orders and inventory. Now, let's take it a step further and incorporate comprehension into your code.\n",
    "\n",
    "Follow the steps below to complete the exercise:\n",
    "\n",
    "1. Review your code from the previous exercise and identify areas where you can apply comprehension to simplify and streamline your code. \n",
    "\n",
    "    - *Hint: Apply it to initialize inventory, updating the inventory and printing the updated inventory.*\n",
    "    \n",
    "    - For example, in initializing the inventory, we could have:\n",
    "    \n",
    "        ```python\n",
    "        def initialize_inventory(products):\n",
    "            inventory = {product: int(input(f\"Enter the quantity of {product}s available: \")) for product in products}\n",
    "            return inventory\n",
    "\n",
    "        ```\n",
    "<br>\n",
    "    \n",
    "    \n",
    "2. Modify the function get_customer_orders so it prompts the user to enter the number of customer orders and gathers the product names using a loop and user input. Use comprehension.\n",
    "\n",
    "3. Add a new function to calculate the total price of the customer order. For each product in customer_orders, prompt the user to enter the price of that product. Use comprehension to calculate the total price. Note: assume that the user can only have 1 unit of each product.\n",
    "\n",
    "4. Modify the update_inventory function to remove the product from the inventory if its quantity becomes zero after fulfilling the customer orders. Use comprehension to filter out the products with a quantity of zero from the inventory.\n",
    "\n",
    "5. Print the total price of the customer order.\n",
    "\n",
    "Your code should produce output similar to the following:\n",
    "\n",
    "```python\n",
    "Enter the quantity of t-shirts available:  5\n",
    "Enter the quantity of mugs available:  4\n",
    "Enter the quantity of hats available:  3\n",
    "Enter the quantity of books available:  2\n",
    "Enter the quantity of keychains available:  1\n",
    "Enter the number of customer orders:  2\n",
    "Enter the name of a product that a customer wants to order:  hat\n",
    "Enter the name of a product that a customer wants to order:  keychain\n",
    "\n",
    "Order Statistics:\n",
    "Total Products Ordered: 2\n",
    "Percentage of Unique Products Ordered: 40.0\n",
    "\n",
    "Updated Inventory:\n",
    "t-shirt: 5\n",
    "mug: 4\n",
    "hat: 2\n",
    "book: 2\n",
    "Enter the price of keychain:  5\n",
    "Enter the price of hat:  10\n",
    "Total Price: 15.0\n",
    "\n",
    "```\n"
   ]
  },
  {
   "cell_type": "code",
   "execution_count": 31,
   "id": "c7989330",
   "metadata": {},
   "outputs": [],
   "source": [
    "# Base-products\n",
    "\n",
    "products = [\"t-shirt\", \"mug\", \"hat\", \"book\", \"keychain\"]"
   ]
  },
  {
   "cell_type": "code",
   "execution_count": 32,
   "id": "05048cc3",
   "metadata": {},
   "outputs": [],
   "source": [
    "#This functions ask the user to write the quantity for each product\n",
    "def initialize_inventory(products):\n",
    "    inventory = {product: int(input(f\"Enter the quantity of {product} available:\")) for product in products}\n",
    "    #No se manejan errores\n",
    "    return inventory\n"
   ]
  },
  {
   "cell_type": "code",
   "execution_count": 33,
   "id": "bbbe2e47",
   "metadata": {},
   "outputs": [],
   "source": [
    "def get_customer_orders(): # This one ask the user if he/she wants to add some item to the order\n",
    "    product_orders = (input(\"Please, select a product: \") for _ in iter(lambda: input(\"Do you want to add another product (yes/no)?\"), \"no\"))\n",
    "    return set(product_orders)\n",
    "\n",
    "customer_order = {i for i in get_customer_orders()}\n",
    "\n",
    "def calculate_total_price(customer_order):\n",
    "    total_price = sum(float(input(f\"Enter the price for {product}: \")) for product in customer_order)\n",
    "    return total_price\n",
    "    "
   ]
  },
  {
   "cell_type": "code",
   "execution_count": 34,
   "id": "de32fd40",
   "metadata": {},
   "outputs": [],
   "source": [
    "def calculate_order_statics(customer_orders, products): # This one calculate the order_status\n",
    "    total_ordered_products = len(customer_orders)\n",
    "    percentage_ordered_products = (total_ordered_products / len(products)) * 100\n",
    "    order_status = (total_ordered_products, percentage_ordered_products)\n",
    "    return order_status\n",
    "\n",
    "def print_order_statics(order_status): # This one print the order_status\n",
    "    print(\"Order Status:\")\n",
    "    print(f\"Total ordered products: {order_status[0]}\")\n",
    "    print(f\"Percentage of ordered products: {order_status[1]}%\")"
   ]
  },
  {
   "cell_type": "code",
   "execution_count": 35,
   "id": "86639b78",
   "metadata": {},
   "outputs": [],
   "source": [
    "def udapte_inventory(customer_orders, inventory): # This one update the inventory\n",
    "    for product in customer_orders: \n",
    "        if product in inventory and inventory[product] > 0:\n",
    "            inventory[product] -= 1\n",
    "        else:\n",
    "            print(f\"Sorry, we don't have {product} in our inventory.\")\n",
    "    \n",
    "    inventory = {product: quantity for product, quantity in inventory.items() if quantity > 0}\n",
    "    \n",
    "    print(f\"Updated inventory after order: {inventory}\")\n",
    "    return inventory"
   ]
  },
  {
   "cell_type": "code",
   "execution_count": 36,
   "id": "bb1f81e5",
   "metadata": {},
   "outputs": [],
   "source": [
    "def main():\n",
    "    inventory = initialize_inventory(products)\n",
    "    customer_order = get_customer_orders()\n",
    "    total_price = calculate_total_price(customer_order, inventory)\n",
    "    order_status = calculate_order_statics(customer_order, products)\n",
    "    print_order_statics(order_status)\n",
    "    update_inventory(customer_order, inventory)\n",
    "    "
   ]
  }
 ],
 "metadata": {
  "kernelspec": {
   "display_name": "Python 3 (ipykernel)",
   "language": "python",
   "name": "python3"
  },
  "language_info": {
   "codemirror_mode": {
    "name": "ipython",
    "version": 3
   },
   "file_extension": ".py",
   "mimetype": "text/x-python",
   "name": "python",
   "nbconvert_exporter": "python",
   "pygments_lexer": "ipython3",
   "version": "3.12.4"
  }
 },
 "nbformat": 4,
 "nbformat_minor": 5
}
